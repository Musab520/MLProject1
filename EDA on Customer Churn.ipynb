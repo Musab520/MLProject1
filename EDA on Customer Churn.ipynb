{
 "cells": [
  {
   "cell_type": "code",
   "execution_count": 3,
   "id": "ecb80af1",
   "metadata": {},
   "outputs": [],
   "source": [
    "import pandas as pd"
   ]
  },
  {
   "cell_type": "code",
   "execution_count": 5,
   "id": "ad7d6075",
   "metadata": {},
   "outputs": [],
   "source": [
    "df = pd.read_csv('Customer Churn.csv')"
   ]
  },
  {
   "cell_type": "code",
   "execution_count": 9,
   "id": "c8fde718",
   "metadata": {},
   "outputs": [
    {
     "name": "stdout",
     "output_type": "stream",
     "text": [
      "   ID  Call Failure Complains  Subscription Length  Charge Amount  \\\n",
      "0   1             3        no                   10              2   \n",
      "1   2             8        no                   37              0   \n",
      "2   3             0        no                   38              0   \n",
      "3   4            10        no                   36              0   \n",
      "4   5            10        no                   37              0   \n",
      "\n",
      "   Seconds of Use  Freq. of use  Freq. of SMS  Distinct Called Numbers  \\\n",
      "0            1603            25            32                       11   \n",
      "1            4255            65             0                       13   \n",
      "2               0             0             0                        0   \n",
      "3            2338            54           327                       20   \n",
      "4            4083            60             0                       31   \n",
      "\n",
      "   Age Group      Plan      Status  Age  Customer Value Churn  \n",
      "0          3  pre-paid      active   30         193.120    no  \n",
      "1          2  pre-paid      active   25         194.400   yes  \n",
      "2          2  pre-paid  not-active   25           0.000   yes  \n",
      "3          2  pre-paid      active   25        1579.140   yes  \n",
      "4          1  pre-paid      active   15         227.865   yes  \n"
     ]
    }
   ],
   "source": [
    "print(df.head())"
   ]
  },
  {
   "cell_type": "code",
   "execution_count": 11,
   "id": "5d6434d3",
   "metadata": {},
   "outputs": [
    {
     "name": "stdout",
     "output_type": "stream",
     "text": [
      "<class 'pandas.core.frame.DataFrame'>\n",
      "RangeIndex: 3150 entries, 0 to 3149\n",
      "Data columns (total 15 columns):\n",
      " #   Column                   Non-Null Count  Dtype  \n",
      "---  ------                   --------------  -----  \n",
      " 0   ID                       3150 non-null   int64  \n",
      " 1   Call Failure             3150 non-null   int64  \n",
      " 2   Complains                3150 non-null   object \n",
      " 3   Subscription Length      3150 non-null   int64  \n",
      " 4   Charge Amount            3150 non-null   int64  \n",
      " 5   Seconds of Use           3150 non-null   int64  \n",
      " 6   Freq. of use             3150 non-null   int64  \n",
      " 7   Freq. of SMS             3150 non-null   int64  \n",
      " 8   Distinct Called Numbers  3150 non-null   int64  \n",
      " 9   Age Group                3150 non-null   int64  \n",
      " 10  Plan                     3150 non-null   object \n",
      " 11  Status                   3150 non-null   object \n",
      " 12  Age                      3150 non-null   int64  \n",
      " 13  Customer Value           3150 non-null   float64\n",
      " 14  Churn                    3150 non-null   object \n",
      "dtypes: float64(1), int64(10), object(4)\n",
      "memory usage: 369.3+ KB\n",
      "None\n"
     ]
    }
   ],
   "source": [
    "print(df.info())"
   ]
  },
  {
   "cell_type": "code",
   "execution_count": 15,
   "id": "e550fe0a",
   "metadata": {},
   "outputs": [
    {
     "name": "stdout",
     "output_type": "stream",
     "text": [
      "             ID  Call Failure  Subscription Length  Charge Amount  \\\n",
      "count  3150.000   3150.000000          3150.000000    3150.000000   \n",
      "mean   1575.500      7.627937            32.541905       0.942857   \n",
      "std     909.471      7.263886             8.573482       1.521072   \n",
      "min       1.000      0.000000             3.000000       0.000000   \n",
      "25%     788.250      1.000000            30.000000       0.000000   \n",
      "50%    1575.500      6.000000            35.000000       0.000000   \n",
      "75%    2362.750     12.000000            38.000000       1.000000   \n",
      "max    3150.000     36.000000            47.000000      10.000000   \n",
      "\n",
      "       Seconds of Use  Freq. of use  Freq. of SMS  Distinct Called Numbers  \\\n",
      "count     3150.000000   3150.000000   3150.000000              3150.000000   \n",
      "mean      4472.459683     69.460635     73.174921                23.509841   \n",
      "std       4197.908687     57.413308    112.237560                17.217337   \n",
      "min          0.000000      0.000000      0.000000                 0.000000   \n",
      "25%       1391.250000     27.000000      6.000000                10.000000   \n",
      "50%       2990.000000     54.000000     21.000000                21.000000   \n",
      "75%       6478.250000     95.000000     87.000000                34.000000   \n",
      "max      17090.000000    255.000000    522.000000                97.000000   \n",
      "\n",
      "         Age Group          Age  Customer Value  \n",
      "count  3150.000000  3150.000000     3150.000000  \n",
      "mean      2.826032    30.998413      470.972916  \n",
      "std       0.892555     8.831095      517.015433  \n",
      "min       1.000000    15.000000        0.000000  \n",
      "25%       2.000000    25.000000      113.801250  \n",
      "50%       3.000000    30.000000      228.480000  \n",
      "75%       3.000000    30.000000      788.388750  \n",
      "max       5.000000    55.000000     2165.280000  \n"
     ]
    }
   ],
   "source": [
    "print(df.describe())"
   ]
  },
  {
   "cell_type": "code",
   "execution_count": 16,
   "id": "38faf7f8",
   "metadata": {},
   "outputs": [
    {
     "data": {
      "text/plain": [
       "0"
      ]
     },
     "execution_count": 16,
     "metadata": {},
     "output_type": "execute_result"
    }
   ],
   "source": []
  }
 ],
 "metadata": {
  "kernelspec": {
   "display_name": "Python 3 (ipykernel)",
   "language": "python",
   "name": "python3"
  },
  "language_info": {
   "codemirror_mode": {
    "name": "ipython",
    "version": 3
   },
   "file_extension": ".py",
   "mimetype": "text/x-python",
   "name": "python",
   "nbconvert_exporter": "python",
   "pygments_lexer": "ipython3",
   "version": "3.9.13"
  }
 },
 "nbformat": 4,
 "nbformat_minor": 5
}
